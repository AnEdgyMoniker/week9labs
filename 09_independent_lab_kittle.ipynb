{
 "cells": [
  {
   "cell_type": "markdown",
   "id": "881cda55",
   "metadata": {},
   "source": [
    "# Independent Lab: Inferential Statistics in Python\n",
    "BGEN632\n",
    "\n",
    "**Author:** Brandon Kittle \n",
    "**Date:** 04/26/2025\n",
    "**Assignment:** Independent Lab - Week 9\n",
    "\n",
    "## Introduction\n",
    "\n",
    "The purpose of this lab is to apply inferential statistical methods in Python by building and validating a multiple regression model. Using employee questionnaire data regarding attitudes, perceived usefulness, satisfaction, and system adoption intent, we aim to:\n",
    "\n",
    "- Develop a regression model predicting system adoption intent (intent1_01).\n",
    "- Validate core regression assumptions: linearity, collinearity, homoscedasticity, independence, and normality.\n",
    "- Interpret overall model significance and individual predictor significance.\n",
    "- Draw business-relevant conclusions about the key drivers of system adoption.\n",
    "\n",
    "This lab demonstrates an end-to-end inferential analysis, from data preparation through model interpretation, supporting business decision-making for organizational technology adoption initiatives.\n"
   ]
  },
  {
   "cell_type": "markdown",
   "id": "d74a87d1",
   "metadata": {},
   "source": [
    "As always, we will first import libraries and set up the enviroment. "
   ]
  },
  {
   "cell_type": "code",
   "execution_count": 13,
   "id": "cc9a9a25",
   "metadata": {},
   "outputs": [
    {
     "data": {
      "text/plain": [
       "'C:\\\\Users\\\\brand\\\\Documents\\\\GitHub\\\\week9labs\\\\data'"
      ]
     },
     "execution_count": 13,
     "metadata": {},
     "output_type": "execute_result"
    }
   ],
   "source": [
    "# Import libraries\n",
    "import pandas as pd\n",
    "import numpy as np\n",
    "import matplotlib.pyplot as plt\n",
    "import scipy.stats as sts\n",
    "from scipy.stats import shapiro, pearsonr\n",
    "import statsmodels.formula.api as smf\n",
    "from sklearn.linear_model import LinearRegression\n",
    "import os\n",
    "from statsmodels.stats.stattools import durbin_watson\n",
    "\n",
    "os.chdir(\"C:/Users/brand/Documents/GitHub/week9labs/data\")\n",
    "os.getcwd()\n",
    "\n"
   ]
  },
  {
   "cell_type": "markdown",
   "id": "a04371a6",
   "metadata": {},
   "source": [
    "We will then load the data. "
   ]
  },
  {
   "cell_type": "code",
   "execution_count": 5,
   "id": "b6b2b7d2",
   "metadata": {},
   "outputs": [
    {
     "name": "stdout",
     "output_type": "stream",
     "text": [
      "<class 'pandas.core.frame.DataFrame'>\n",
      "RangeIndex: 201 entries, 0 to 200\n",
      "Data columns (total 16 columns):\n",
      " #   Column        Non-Null Count  Dtype\n",
      "---  ------        --------------  -----\n",
      " 0   attitude1_01  201 non-null    int64\n",
      " 1   attitude1_02  201 non-null    int64\n",
      " 2   attitude1_03  201 non-null    int64\n",
      " 3   attitude1_04  201 non-null    int64\n",
      " 4   intent1_01    201 non-null    int64\n",
      " 5   intent1_02    201 non-null    int64\n",
      " 6   intent1_03    201 non-null    int64\n",
      " 7   intent1_04    201 non-null    int64\n",
      " 8   peruse01      201 non-null    int64\n",
      " 9   peruse02      201 non-null    int64\n",
      " 10  peruse03      201 non-null    int64\n",
      " 11  peruse04      201 non-null    int64\n",
      " 12  satis01       201 non-null    int64\n",
      " 13  satis02       201 non-null    int64\n",
      " 14  satis03       201 non-null    int64\n",
      " 15  satis04       201 non-null    int64\n",
      "dtypes: int64(16)\n",
      "memory usage: 25.3 KB\n"
     ]
    },
    {
     "data": {
      "text/html": [
       "<div>\n",
       "<style scoped>\n",
       "    .dataframe tbody tr th:only-of-type {\n",
       "        vertical-align: middle;\n",
       "    }\n",
       "\n",
       "    .dataframe tbody tr th {\n",
       "        vertical-align: top;\n",
       "    }\n",
       "\n",
       "    .dataframe thead th {\n",
       "        text-align: right;\n",
       "    }\n",
       "</style>\n",
       "<table border=\"1\" class=\"dataframe\">\n",
       "  <thead>\n",
       "    <tr style=\"text-align: right;\">\n",
       "      <th></th>\n",
       "      <th>attitude1_01</th>\n",
       "      <th>attitude1_02</th>\n",
       "      <th>attitude1_03</th>\n",
       "      <th>attitude1_04</th>\n",
       "      <th>intent1_01</th>\n",
       "      <th>intent1_02</th>\n",
       "      <th>intent1_03</th>\n",
       "      <th>intent1_04</th>\n",
       "      <th>peruse01</th>\n",
       "      <th>peruse02</th>\n",
       "      <th>peruse03</th>\n",
       "      <th>peruse04</th>\n",
       "      <th>satis01</th>\n",
       "      <th>satis02</th>\n",
       "      <th>satis03</th>\n",
       "      <th>satis04</th>\n",
       "    </tr>\n",
       "  </thead>\n",
       "  <tbody>\n",
       "    <tr>\n",
       "      <th>0</th>\n",
       "      <td>6</td>\n",
       "      <td>6</td>\n",
       "      <td>6</td>\n",
       "      <td>6</td>\n",
       "      <td>6</td>\n",
       "      <td>6</td>\n",
       "      <td>6</td>\n",
       "      <td>6</td>\n",
       "      <td>6</td>\n",
       "      <td>4</td>\n",
       "      <td>5</td>\n",
       "      <td>5</td>\n",
       "      <td>5</td>\n",
       "      <td>5</td>\n",
       "      <td>5</td>\n",
       "      <td>5</td>\n",
       "    </tr>\n",
       "    <tr>\n",
       "      <th>1</th>\n",
       "      <td>7</td>\n",
       "      <td>7</td>\n",
       "      <td>7</td>\n",
       "      <td>7</td>\n",
       "      <td>7</td>\n",
       "      <td>7</td>\n",
       "      <td>7</td>\n",
       "      <td>7</td>\n",
       "      <td>7</td>\n",
       "      <td>7</td>\n",
       "      <td>7</td>\n",
       "      <td>7</td>\n",
       "      <td>7</td>\n",
       "      <td>6</td>\n",
       "      <td>6</td>\n",
       "      <td>6</td>\n",
       "    </tr>\n",
       "    <tr>\n",
       "      <th>2</th>\n",
       "      <td>6</td>\n",
       "      <td>6</td>\n",
       "      <td>6</td>\n",
       "      <td>6</td>\n",
       "      <td>7</td>\n",
       "      <td>7</td>\n",
       "      <td>7</td>\n",
       "      <td>7</td>\n",
       "      <td>6</td>\n",
       "      <td>5</td>\n",
       "      <td>5</td>\n",
       "      <td>5</td>\n",
       "      <td>5</td>\n",
       "      <td>5</td>\n",
       "      <td>5</td>\n",
       "      <td>5</td>\n",
       "    </tr>\n",
       "    <tr>\n",
       "      <th>3</th>\n",
       "      <td>7</td>\n",
       "      <td>7</td>\n",
       "      <td>7</td>\n",
       "      <td>7</td>\n",
       "      <td>6</td>\n",
       "      <td>6</td>\n",
       "      <td>7</td>\n",
       "      <td>6</td>\n",
       "      <td>5</td>\n",
       "      <td>5</td>\n",
       "      <td>5</td>\n",
       "      <td>5</td>\n",
       "      <td>7</td>\n",
       "      <td>6</td>\n",
       "      <td>7</td>\n",
       "      <td>6</td>\n",
       "    </tr>\n",
       "    <tr>\n",
       "      <th>4</th>\n",
       "      <td>7</td>\n",
       "      <td>7</td>\n",
       "      <td>6</td>\n",
       "      <td>6</td>\n",
       "      <td>7</td>\n",
       "      <td>7</td>\n",
       "      <td>7</td>\n",
       "      <td>6</td>\n",
       "      <td>6</td>\n",
       "      <td>6</td>\n",
       "      <td>7</td>\n",
       "      <td>7</td>\n",
       "      <td>6</td>\n",
       "      <td>6</td>\n",
       "      <td>6</td>\n",
       "      <td>6</td>\n",
       "    </tr>\n",
       "  </tbody>\n",
       "</table>\n",
       "</div>"
      ],
      "text/plain": [
       "   attitude1_01  attitude1_02  attitude1_03  attitude1_04  intent1_01  \\\n",
       "0             6             6             6             6           6   \n",
       "1             7             7             7             7           7   \n",
       "2             6             6             6             6           7   \n",
       "3             7             7             7             7           6   \n",
       "4             7             7             6             6           7   \n",
       "\n",
       "   intent1_02  intent1_03  intent1_04  peruse01  peruse02  peruse03  peruse04  \\\n",
       "0           6           6           6         6         4         5         5   \n",
       "1           7           7           7         7         7         7         7   \n",
       "2           7           7           7         6         5         5         5   \n",
       "3           6           7           6         5         5         5         5   \n",
       "4           7           7           6         6         6         7         7   \n",
       "\n",
       "   satis01  satis02  satis03  satis04  \n",
       "0        5        5        5        5  \n",
       "1        7        6        6        6  \n",
       "2        5        5        5        5  \n",
       "3        7        6        7        6  \n",
       "4        6        6        6        6  "
      ]
     },
     "execution_count": 5,
     "metadata": {},
     "output_type": "execute_result"
    }
   ],
   "source": [
    "ect_df = pd.read_table('ect_data.txt', sep='\\t')\n",
    "ect_df.info()\n",
    "ect_df.head()"
   ]
  },
  {
   "cell_type": "markdown",
   "id": "e27bb58c",
   "metadata": {},
   "source": [
    "Now we will select 5 predictors and 1 target variable. "
   ]
  },
  {
   "cell_type": "code",
   "execution_count": 6,
   "id": "50ceaf4d",
   "metadata": {},
   "outputs": [
    {
     "data": {
      "text/html": [
       "<div>\n",
       "<style scoped>\n",
       "    .dataframe tbody tr th:only-of-type {\n",
       "        vertical-align: middle;\n",
       "    }\n",
       "\n",
       "    .dataframe tbody tr th {\n",
       "        vertical-align: top;\n",
       "    }\n",
       "\n",
       "    .dataframe thead th {\n",
       "        text-align: right;\n",
       "    }\n",
       "</style>\n",
       "<table border=\"1\" class=\"dataframe\">\n",
       "  <thead>\n",
       "    <tr style=\"text-align: right;\">\n",
       "      <th></th>\n",
       "      <th>intent1_01</th>\n",
       "      <th>attitude1_01</th>\n",
       "      <th>attitude1_02</th>\n",
       "      <th>peruse01</th>\n",
       "      <th>satis01</th>\n",
       "      <th>satis02</th>\n",
       "    </tr>\n",
       "  </thead>\n",
       "  <tbody>\n",
       "    <tr>\n",
       "      <th>0</th>\n",
       "      <td>6</td>\n",
       "      <td>6</td>\n",
       "      <td>6</td>\n",
       "      <td>6</td>\n",
       "      <td>5</td>\n",
       "      <td>5</td>\n",
       "    </tr>\n",
       "    <tr>\n",
       "      <th>1</th>\n",
       "      <td>7</td>\n",
       "      <td>7</td>\n",
       "      <td>7</td>\n",
       "      <td>7</td>\n",
       "      <td>7</td>\n",
       "      <td>6</td>\n",
       "    </tr>\n",
       "    <tr>\n",
       "      <th>2</th>\n",
       "      <td>7</td>\n",
       "      <td>6</td>\n",
       "      <td>6</td>\n",
       "      <td>6</td>\n",
       "      <td>5</td>\n",
       "      <td>5</td>\n",
       "    </tr>\n",
       "    <tr>\n",
       "      <th>3</th>\n",
       "      <td>6</td>\n",
       "      <td>7</td>\n",
       "      <td>7</td>\n",
       "      <td>5</td>\n",
       "      <td>7</td>\n",
       "      <td>6</td>\n",
       "    </tr>\n",
       "    <tr>\n",
       "      <th>4</th>\n",
       "      <td>7</td>\n",
       "      <td>7</td>\n",
       "      <td>7</td>\n",
       "      <td>6</td>\n",
       "      <td>6</td>\n",
       "      <td>6</td>\n",
       "    </tr>\n",
       "  </tbody>\n",
       "</table>\n",
       "</div>"
      ],
      "text/plain": [
       "   intent1_01  attitude1_01  attitude1_02  peruse01  satis01  satis02\n",
       "0           6             6             6         6        5        5\n",
       "1           7             7             7         7        7        6\n",
       "2           7             6             6         6        5        5\n",
       "3           6             7             7         5        7        6\n",
       "4           7             7             7         6        6        6"
      ]
     },
     "execution_count": 6,
     "metadata": {},
     "output_type": "execute_result"
    }
   ],
   "source": [
    "predictors = ['attitude1_01', 'attitude1_02', 'peruse01', 'satis01', 'satis02']\n",
    "target = 'intent1_01'\n",
    "\n",
    "# data frame based on the predictors and target\n",
    "model_df = ect_df[[target] + predictors]\n",
    "model_df.head()"
   ]
  },
  {
   "cell_type": "markdown",
   "id": "bcede037",
   "metadata": {},
   "source": [
    "Now its time to build the model. Luckily, for Jason Triche's class a year ago, I built a similar model using python rather then R. We were preforming a linear regression model over a dataset from the Watsons Children center. While I did alot more then what we are doing here, should be fairly similiar as I adept the code to fit our needs. A few things might be different then what we were shown in class. However, I did learn a few great ways to explore data using that dataset. I will be using some of those methods here. The formatting tones will now be more professional as well as we begin to explore the data, create any workflows, and build / evaluate the model. Using similar language and formatting I've been picking up in Dr. Chandlers class with Rmd files. "
   ]
  },
  {
   "cell_type": "code",
   "execution_count": 7,
   "id": "8c93f8f7",
   "metadata": {},
   "outputs": [
    {
     "data": {
      "text/html": [
       "<table class=\"simpletable\">\n",
       "<caption>OLS Regression Results</caption>\n",
       "<tr>\n",
       "  <th>Dep. Variable:</th>       <td>intent1_01</td>    <th>  R-squared:         </th> <td>   0.536</td>\n",
       "</tr>\n",
       "<tr>\n",
       "  <th>Model:</th>                   <td>OLS</td>       <th>  Adj. R-squared:    </th> <td>   0.524</td>\n",
       "</tr>\n",
       "<tr>\n",
       "  <th>Method:</th>             <td>Least Squares</td>  <th>  F-statistic:       </th> <td>   45.01</td>\n",
       "</tr>\n",
       "<tr>\n",
       "  <th>Date:</th>             <td>Mon, 28 Apr 2025</td> <th>  Prob (F-statistic):</th> <td>9.40e-31</td>\n",
       "</tr>\n",
       "<tr>\n",
       "  <th>Time:</th>                 <td>00:28:47</td>     <th>  Log-Likelihood:    </th> <td> -211.54</td>\n",
       "</tr>\n",
       "<tr>\n",
       "  <th>No. Observations:</th>      <td>   201</td>      <th>  AIC:               </th> <td>   435.1</td>\n",
       "</tr>\n",
       "<tr>\n",
       "  <th>Df Residuals:</th>          <td>   195</td>      <th>  BIC:               </th> <td>   454.9</td>\n",
       "</tr>\n",
       "<tr>\n",
       "  <th>Df Model:</th>              <td>     5</td>      <th>                     </th>     <td> </td>   \n",
       "</tr>\n",
       "<tr>\n",
       "  <th>Covariance Type:</th>      <td>nonrobust</td>    <th>                     </th>     <td> </td>   \n",
       "</tr>\n",
       "</table>\n",
       "<table class=\"simpletable\">\n",
       "<tr>\n",
       "        <td></td>          <th>coef</th>     <th>std err</th>      <th>t</th>      <th>P>|t|</th>  <th>[0.025</th>    <th>0.975]</th>  \n",
       "</tr>\n",
       "<tr>\n",
       "  <th>Intercept</th>    <td>    0.9961</td> <td>    0.353</td> <td>    2.826</td> <td> 0.005</td> <td>    0.301</td> <td>    1.691</td>\n",
       "</tr>\n",
       "<tr>\n",
       "  <th>attitude1_01</th> <td>    0.3098</td> <td>    0.095</td> <td>    3.252</td> <td> 0.001</td> <td>    0.122</td> <td>    0.498</td>\n",
       "</tr>\n",
       "<tr>\n",
       "  <th>attitude1_02</th> <td>    0.1481</td> <td>    0.076</td> <td>    1.960</td> <td> 0.051</td> <td>   -0.001</td> <td>    0.297</td>\n",
       "</tr>\n",
       "<tr>\n",
       "  <th>peruse01</th>     <td>    0.2337</td> <td>    0.058</td> <td>    4.061</td> <td> 0.000</td> <td>    0.120</td> <td>    0.347</td>\n",
       "</tr>\n",
       "<tr>\n",
       "  <th>satis01</th>      <td>    0.1676</td> <td>    0.094</td> <td>    1.779</td> <td> 0.077</td> <td>   -0.018</td> <td>    0.353</td>\n",
       "</tr>\n",
       "<tr>\n",
       "  <th>satis02</th>      <td>    0.0215</td> <td>    0.089</td> <td>    0.240</td> <td> 0.810</td> <td>   -0.155</td> <td>    0.198</td>\n",
       "</tr>\n",
       "</table>\n",
       "<table class=\"simpletable\">\n",
       "<tr>\n",
       "  <th>Omnibus:</th>       <td>61.979</td> <th>  Durbin-Watson:     </th> <td>   1.929</td>\n",
       "</tr>\n",
       "<tr>\n",
       "  <th>Prob(Omnibus):</th> <td> 0.000</td> <th>  Jarque-Bera (JB):  </th> <td> 296.788</td>\n",
       "</tr>\n",
       "<tr>\n",
       "  <th>Skew:</th>          <td>-1.088</td> <th>  Prob(JB):          </th> <td>3.58e-65</td>\n",
       "</tr>\n",
       "<tr>\n",
       "  <th>Kurtosis:</th>      <td> 8.541</td> <th>  Cond. No.          </th> <td>    94.2</td>\n",
       "</tr>\n",
       "</table><br/><br/>Notes:<br/>[1] Standard Errors assume that the covariance matrix of the errors is correctly specified."
      ],
      "text/latex": [
       "\\begin{center}\n",
       "\\begin{tabular}{lclc}\n",
       "\\toprule\n",
       "\\textbf{Dep. Variable:}    &   intent1\\_01    & \\textbf{  R-squared:         } &     0.536   \\\\\n",
       "\\textbf{Model:}            &       OLS        & \\textbf{  Adj. R-squared:    } &     0.524   \\\\\n",
       "\\textbf{Method:}           &  Least Squares   & \\textbf{  F-statistic:       } &     45.01   \\\\\n",
       "\\textbf{Date:}             & Mon, 28 Apr 2025 & \\textbf{  Prob (F-statistic):} &  9.40e-31   \\\\\n",
       "\\textbf{Time:}             &     00:28:47     & \\textbf{  Log-Likelihood:    } &   -211.54   \\\\\n",
       "\\textbf{No. Observations:} &         201      & \\textbf{  AIC:               } &     435.1   \\\\\n",
       "\\textbf{Df Residuals:}     &         195      & \\textbf{  BIC:               } &     454.9   \\\\\n",
       "\\textbf{Df Model:}         &           5      & \\textbf{                     } &             \\\\\n",
       "\\textbf{Covariance Type:}  &    nonrobust     & \\textbf{                     } &             \\\\\n",
       "\\bottomrule\n",
       "\\end{tabular}\n",
       "\\begin{tabular}{lcccccc}\n",
       "                       & \\textbf{coef} & \\textbf{std err} & \\textbf{t} & \\textbf{P$> |$t$|$} & \\textbf{[0.025} & \\textbf{0.975]}  \\\\\n",
       "\\midrule\n",
       "\\textbf{Intercept}     &       0.9961  &        0.353     &     2.826  &         0.005        &        0.301    &        1.691     \\\\\n",
       "\\textbf{attitude1\\_01} &       0.3098  &        0.095     &     3.252  &         0.001        &        0.122    &        0.498     \\\\\n",
       "\\textbf{attitude1\\_02} &       0.1481  &        0.076     &     1.960  &         0.051        &       -0.001    &        0.297     \\\\\n",
       "\\textbf{peruse01}      &       0.2337  &        0.058     &     4.061  &         0.000        &        0.120    &        0.347     \\\\\n",
       "\\textbf{satis01}       &       0.1676  &        0.094     &     1.779  &         0.077        &       -0.018    &        0.353     \\\\\n",
       "\\textbf{satis02}       &       0.0215  &        0.089     &     0.240  &         0.810        &       -0.155    &        0.198     \\\\\n",
       "\\bottomrule\n",
       "\\end{tabular}\n",
       "\\begin{tabular}{lclc}\n",
       "\\textbf{Omnibus:}       & 61.979 & \\textbf{  Durbin-Watson:     } &    1.929  \\\\\n",
       "\\textbf{Prob(Omnibus):} &  0.000 & \\textbf{  Jarque-Bera (JB):  } &  296.788  \\\\\n",
       "\\textbf{Skew:}          & -1.088 & \\textbf{  Prob(JB):          } & 3.58e-65  \\\\\n",
       "\\textbf{Kurtosis:}      &  8.541 & \\textbf{  Cond. No.          } &     94.2  \\\\\n",
       "\\bottomrule\n",
       "\\end{tabular}\n",
       "%\\caption{OLS Regression Results}\n",
       "\\end{center}\n",
       "\n",
       "Notes: \\newline\n",
       " [1] Standard Errors assume that the covariance matrix of the errors is correctly specified."
      ],
      "text/plain": [
       "<class 'statsmodels.iolib.summary.Summary'>\n",
       "\"\"\"\n",
       "                            OLS Regression Results                            \n",
       "==============================================================================\n",
       "Dep. Variable:             intent1_01   R-squared:                       0.536\n",
       "Model:                            OLS   Adj. R-squared:                  0.524\n",
       "Method:                 Least Squares   F-statistic:                     45.01\n",
       "Date:                Mon, 28 Apr 2025   Prob (F-statistic):           9.40e-31\n",
       "Time:                        00:28:47   Log-Likelihood:                -211.54\n",
       "No. Observations:                 201   AIC:                             435.1\n",
       "Df Residuals:                     195   BIC:                             454.9\n",
       "Df Model:                           5                                         \n",
       "Covariance Type:            nonrobust                                         \n",
       "================================================================================\n",
       "                   coef    std err          t      P>|t|      [0.025      0.975]\n",
       "--------------------------------------------------------------------------------\n",
       "Intercept        0.9961      0.353      2.826      0.005       0.301       1.691\n",
       "attitude1_01     0.3098      0.095      3.252      0.001       0.122       0.498\n",
       "attitude1_02     0.1481      0.076      1.960      0.051      -0.001       0.297\n",
       "peruse01         0.2337      0.058      4.061      0.000       0.120       0.347\n",
       "satis01          0.1676      0.094      1.779      0.077      -0.018       0.353\n",
       "satis02          0.0215      0.089      0.240      0.810      -0.155       0.198\n",
       "==============================================================================\n",
       "Omnibus:                       61.979   Durbin-Watson:                   1.929\n",
       "Prob(Omnibus):                  0.000   Jarque-Bera (JB):              296.788\n",
       "Skew:                          -1.088   Prob(JB):                     3.58e-65\n",
       "Kurtosis:                       8.541   Cond. No.                         94.2\n",
       "==============================================================================\n",
       "\n",
       "Notes:\n",
       "[1] Standard Errors assume that the covariance matrix of the errors is correctly specified.\n",
       "\"\"\""
      ]
     },
     "execution_count": 7,
     "metadata": {},
     "output_type": "execute_result"
    }
   ],
   "source": [
    "# linear regression model\n",
    "lin_reg = smf.ols(formula='intent1_01 ~ attitude1_01 + attitude1_02 + peruse01 + satis01 + satis02', data=model_df).fit()\n",
    "\n",
    "# summary\n",
    "lin_reg.summary()"
   ]
  },
  {
   "cell_type": "markdown",
   "id": "07ddaa41",
   "metadata": {},
   "source": [
    "**Interpretation**:  \n",
    "The F-test is statistically significant, indicating that at least one predictor variable is significantly associated with intent1_01. The overall regression model is a good fit for the data.\n",
    "\n",
    "### Individual Predictor Significance (T-tests)\n",
    "\n",
    "| Predictor      | Coefficient | p-value | Significant? |\n",
    "|:---------------|:------------|:--------|:-------------|\n",
    "| **attitude1_01** | 0.3098      | 0.001    | Yes |\n",
    "| attitude1_02    | 0.1481      | 0.051    | Borderline |\n",
    "| **peruse01**    | 0.2337      | 0.000    | Yes |\n",
    "| satis01         | 0.1676      | 0.077    | No |\n",
    "| satis02         | 0.0215      | 0.810    | No |\n",
    "\n",
    "**Interpretation**:  \n",
    "Based on the t-tests, attitude1_01 and peruse01 are `statistically significant` predictors of intent1_01 at the 0.05 level. The other variables are not significant.\n",
    "\n",
    "### Business Interpretation of Significant Variables\n",
    "\n",
    "**attitude1_01**  \n",
    "- Coefficient = +0.3098\n",
    "- Each additional unit increase in positive attitude toward the system is associated with a 0.3098 increase in system adoption intent, holding other factors constant.\n",
    "- **Business relevance**: Improving employee attitudes can significantly boost system adoption rates.\n",
    "\n",
    "**peruse01**  \n",
    "- Coefficient = +0.2337\n",
    "- Each additional unit increase in perceived usefulness is associated with a 0.2337 increase in system adoption intent.\n",
    "- **Business relevance**: Highlighting the system's usefulness and practical benefits can enhance employee buy-in.\n",
    "\n",
    "**Next Steps**:\n",
    "Now we need to do is to preform additional verifications of our model. First is to check the linearity of the data. We can do this by plotting the data and looking for the linear pattern. This process will help us determine the validation of our model. "
   ]
  },
  {
   "cell_type": "code",
   "execution_count": 8,
   "id": "3e9f4707",
   "metadata": {},
   "outputs": [
    {
     "data": {
      "image/png": "[encoded data removed]",
      "text/plain": [
       "<Figure size 640x480 with 1 Axes>"
      ]
     },
     "metadata": {},
     "output_type": "display_data"
    },
    {
     "data": {
      "image/png": "[encoded data removed]",
      "text/plain": [
       "<Figure size 640x480 with 1 Axes>"
      ]
     },
     "metadata": {},
     "output_type": "display_data"
    },
    {
     "data": {
      "image/png": "[encoded data removed]",
      "text/plain": [
       "<Figure size 640x480 with 1 Axes>"
      ]
     },
     "metadata": {},
     "output_type": "display_data"
    },
    {
     "data": {
      "image/png": "[encoded data removed]",
      "text/plain": [
       "<Figure size 640x480 with 1 Axes>"
      ]
     },
     "metadata": {},
     "output_type": "display_data"
    },
    {
     "data": {
      "image/png": "[encoded data removed]",
      "text/plain": [
       "<Figure size 640x480 with 1 Axes>"
      ]
     },
     "metadata": {},
     "output_type": "display_data"
    }
   ],
   "source": [
    "# Linearity scatterplot\n",
    "for var in predictors:\n",
    "    ect_df.plot.scatter(x=var, y=target)\n",
    "    plt.title(f'{target} vs {var}')\n",
    "    plt.xlabel(var)\n",
    "    plt.ylabel(target)\n",
    "    plt.show()\n"
   ]
  },
  {
   "cell_type": "markdown",
   "id": "98933076",
   "metadata": {},
   "source": [
    "**Interpretation:**\n",
    "- **attitude1_01**: There appears to be a moderate positive relationship with intent1_01. As attitude increases, intention to use generally increases.\n",
    "- **attitude1_02**: A positive trend is visible, though weaker compared to attitude1_01.\n",
    "- **peruse01**: A noticeable positive association is evident. Higher perceived usefulness is associated with higher intention to use.\n",
    "- **satis01**: The relationship with intent1_01 appears weaker and more dispersed, suggesting limited predictive power.\n",
    "- **satis02**: Similarly, the relationship with intent1_01 is weak, with scattered points suggesting low explanatory value.\n",
    "\n",
    "Next we will check the Collinearity of the data. This is important as we need to make sure that our predictors are not correlated with each other. "
   ]
  },
  {
   "cell_type": "code",
   "execution_count": 9,
   "id": "0a290f95",
   "metadata": {},
   "outputs": [
    {
     "data": {
      "text/plain": [
       "{'attitude1_01': 3.208845371618712,\n",
       " 'attitude1_02': 2.657443388799626,\n",
       " 'peruse01': 1.548590185415177,\n",
       " 'satis01': 4.484162683589695,\n",
       " 'satis02': 4.341000167261285}"
      ]
     },
     "execution_count": 9,
     "metadata": {},
     "output_type": "execute_result"
    }
   ],
   "source": [
    "# Corr matrix\n",
    "model_df.corr()\n",
    "# VIF calculation\n",
    "vif_scores = {}\n",
    "for var in predictors:\n",
    "    lin_temp = LinearRegression()\n",
    "    X_temp = model_df[[v for v in predictors if v != var]]\n",
    "    y_temp = model_df[var]\n",
    "    lin_temp.fit(X_temp, y_temp)\n",
    "    vif = 1 / (1 - lin_temp.score(X_temp, y_temp))\n",
    "    vif_scores[var] = vif\n",
    "\n",
    "vif_scores\n"
   ]
  },
  {
   "cell_type": "markdown",
   "id": "c6a2c005",
   "metadata": {},
   "source": [
    "### Collinearity\n",
    "\n",
    "| Variable      | VIF Score |\n",
    "|:--------------|:----------|\n",
    "| attitude1_01  | 3.21       |\n",
    "| attitude1_02  | 2.66       |\n",
    "| peruse01      | 1.55       |\n",
    "| satis01       | 4.48       |\n",
    "| satis02       | 4.34       |\n",
    "\n",
    "**Interpretation:**\n",
    "- All VIF values are **below 5**, suggesting that **multicollinearity is not a serious concern** in this model.\n",
    "- satis01 and satis02 have higher VIF scores compared to the others but remain within an acceptable range.\n",
    "\n",
    "Therefore, the predictors can be retained without concern for multicollinearity."
   ]
  },
  {
   "cell_type": "code",
   "execution_count": 10,
   "id": "f252ed19",
   "metadata": {},
   "outputs": [
    {
     "data": {
      "image/png": "[encoded data removed]",
      "text/plain": [
       "<Figure size 640x480 with 1 Axes>"
      ]
     },
     "metadata": {},
     "output_type": "display_data"
    }
   ],
   "source": [
    "# Residual plot for homoscedasticity\n",
    "plt.scatter(lin_reg.fittedvalues, lin_reg.resid)\n",
    "plt.xlabel('Fitted Values')\n",
    "plt.ylabel('Residuals')\n",
    "plt.axhline(y=0, color='red', linestyle='--')\n",
    "plt.title('Residuals vs Fitted Values')\n",
    "plt.show()\n"
   ]
  },
  {
   "cell_type": "markdown",
   "id": "58e0b77b",
   "metadata": {},
   "source": [
    "### Homoscedasticity\n",
    "\n",
    "A residuals vs fitted values plot was generated to assess whether residuals exhibit constant variance (homoscedasticity).\n",
    "\n",
    "**Interpretation:**\n",
    "- The residuals are generally scattered randomly around the horizontal axis (y=0).\n",
    "- No strong funnel shape, arching, or clear pattern is observed.\n",
    "- A slight wedge shape at higher fitted values appears, but it is minor.\n",
    "\n",
    "Based on the plot, **the assumption of homoscedasticity is reasonably satisfied** for this model.\n"
   ]
  },
  {
   "cell_type": "code",
   "execution_count": 14,
   "id": "5ca0e519",
   "metadata": {},
   "outputs": [
    {
     "name": "stdout",
     "output_type": "stream",
     "text": [
      "Durbin-Watson Statistic: 1.9294735718912375\n"
     ]
    }
   ],
   "source": [
    "#durbin-watson test for independence of errors\n",
    "dw_stat = durbin_watson(lin_reg.resid)\n",
    "print('Durbin-Watson Statistic:', dw_stat)\n"
   ]
  },
  {
   "cell_type": "markdown",
   "id": "ea370df9",
   "metadata": {},
   "source": [
    "\n",
    "**Interpretation:**\n",
    "- The statistic falls within the acceptable range of 1.5 to 2.5.\n",
    "- Therefore, the residuals appear to be independent of one another.\n",
    "\n",
    "The assumption of independence is satisfied for this regression model."
   ]
  },
  {
   "cell_type": "code",
   "execution_count": 15,
   "id": "39242669",
   "metadata": {},
   "outputs": [
    {
     "data": {
      "image/png": "[encoded data removed]",
      "text/plain": [
       "<Figure size 640x480 with 1 Axes>"
      ]
     },
     "metadata": {},
     "output_type": "display_data"
    },
    {
     "data": {
      "text/plain": [
       "ShapiroResult(statistic=np.float64(0.9212982179983524), pvalue=np.float64(6.7878349691670805e-09))"
      ]
     },
     "execution_count": 15,
     "metadata": {},
     "output_type": "execute_result"
    }
   ],
   "source": [
    "# QQ plot\n",
    "sts.probplot(lin_reg.resid, dist=\"norm\", plot=plt)\n",
    "plt.title('QQ Plot of Residuals')\n",
    "plt.show()\n",
    "# Shapiro-Wilk test for normality of residuals\n",
    "shapiro(lin_reg.resid)"
   ]
  },
  {
   "cell_type": "markdown",
   "id": "94df2558",
   "metadata": {},
   "source": [
    "### Normality\n",
    "\n",
    "A QQ plot was generated to assess the normality of residuals.\n",
    "\n",
    "**Interpretation (QQ plot):**\n",
    "- The majority of points closely follow the red diagonal line.\n",
    "- Minor deviations are visible at the extreme tails.\n",
    "- Overall, the plot suggests that the residuals are approximately normally distributed.\n",
    "\n",
    "Based on the QQ plot, the normality assumption is reasonably satisfied."
   ]
  },
  {
   "cell_type": "markdown",
   "id": "5ce4f320",
   "metadata": {},
   "source": [
    "### Conclusion\n",
    "\n",
    "This analysis assessed the relationship between employee attitudes, perceived usefulness, satisfaction, and their intention to adopt a new system. After validating model assumptions and performing regression analysis, the results suggest that attitude1_01 and peruse01 are statistically significant predictors. Improving employees attitudes toward the system and emphasizing its usefulness appear to have the strongest positive impacts on intent to use. The model explains approximately 53.6% of the variability in adoption intent (R² = 0.536) and satisfies key assumptions including linearity, independence, homoscedasticity, and approximate normality. These findings can help inform targeted strategies to drive successful system adoption within the organization.\n"
   ]
  }
 ],
 "metadata": {
  "kernelspec": {
   "display_name": "Python 3",
   "language": "python",
   "name": "python3"
  },
  "language_info": {
   "codemirror_mode": {
    "name": "ipython",
    "version": 3
   },
   "file_extension": ".py",
   "mimetype": "text/x-python",
   "name": "python",
   "nbconvert_exporter": "python",
   "pygments_lexer": "ipython3",
   "version": "3.12.0"
  }
 },
 "nbformat": 4,
 "nbformat_minor": 5
}
